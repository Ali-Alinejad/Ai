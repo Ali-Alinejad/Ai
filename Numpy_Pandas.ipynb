{
  "nbformat": 4,
  "nbformat_minor": 0,
  "metadata": {
    "colab": {
      "provenance": [],
      "gpuType": "T4",
      "toc_visible": true,
      "authorship_tag": "ABX9TyO5KMHiuyIjcFryp659zcc4",
      "include_colab_link": true
    },
    "kernelspec": {
      "name": "python3",
      "display_name": "Python 3"
    },
    "language_info": {
      "name": "python"
    },
    "accelerator": "GPU"
  },
  "cells": [
    {
      "cell_type": "markdown",
      "metadata": {
        "id": "view-in-github",
        "colab_type": "text"
      },
      "source": [
        "<a href=\"https://colab.research.google.com/github/Ali-Alinejad/Ai/blob/main/Numpy_Pandas.ipynb\" target=\"_parent\"><img src=\"https://colab.research.google.com/assets/colab-badge.svg\" alt=\"Open In Colab\"/></a>"
      ]
    },
    {
      "cell_type": "markdown",
      "source": [
        "# Comprehensive List of NumPy and pandas Methods and Attributes\n",
        "\n",
        "This file provides an extensive overview of **NumPy** and **pandas** methods and attributes, grouped by functionality. Each entry includes the method, description, example, and output.\n",
        "\n",
        "## NumPy Methods and Attributes\n",
        "\n",
        "| Method/Attribute      | Description                                                                 | Example                                                          | Output                          |\n",
        "|-----------------------|-----------------------------------------------------------------------------|------------------------------------------------------------------|---------------------------------|\n",
        "| `shape`               | Returns the dimensions of an array                                         | `arr = np.array([[1, 2], [3, 4]]); arr.shape`                   | `(2, 2)`                        |\n",
        "| `ndim`                | Returns the number of dimensions of the array                             | `arr.ndim`                                                      | `2`                             |\n",
        "| `size`                | Returns the total number of elements in the array                         | `arr.size`                                                      | `4`                             |\n",
        "| `dtype`               | Returns the data type of the elements in the array                        | `arr.dtype`                                                     | `dtype('int32')`                |\n",
        "| `astype()`            | Converts the array to a specified data type                               | `arr.astype(float)`                                             | `[1.0, 2.0, 3.0, 4.0]`          |\n",
        "| `reshape()`           | Reshapes the array to the given dimensions                                | `arr.reshape(2, 2)`                                             | `[[1, 2], [3, 4]]`              |\n",
        "| `ravel()`             | Flattens the array into a 1D array                                        | `arr.ravel()`                                                   | `[1, 2, 3, 4]`                  |\n",
        "| `flatten()`           | Returns a copy of the array collapsed into one dimension                 | `arr.flatten()`                                                 | `[1, 2, 3, 4]`                  |\n",
        "| `transpose()`         | Returns the transpose of the array                                        | `arr.T`                                                         | `[[1, 3], [2, 4]]`              |\n",
        "| `sum()`               | Computes the sum of array elements along a given axis                    | `arr.sum(axis=0)`                                               | `[4, 6]`                        |\n",
        "| `mean()`              | Computes the mean of array elements                                       | `arr.mean()`                                                    | `2.5`                           |\n",
        "| `std()`               | Computes the standard deviation of array elements                        | `arr.std()`                                                     | `1.118`                         |\n",
        "| `var()`               | Computes the variance of array elements                                   | `arr.var()`                                                     | `1.25`                          |\n",
        "| `min()`               | Finds the minimum value of the array                                      | `arr.min()`                                                     | `1`                             |\n",
        "| `max()`               | Finds the maximum value of the array                                      | `arr.max()`                                                     | `4`                             |\n",
        "| `argmin()`            | Returns the index of the minimum value                                    | `arr.argmin()`                                                  | `0`                             |\n",
        "| `argmax()`            | Returns the index of the maximum value                                    | `arr.argmax()`                                                  | `3`                             |\n",
        "| `unique()`            | Finds unique elements in the array                                        | `np.unique(arr)`                                                | `[1, 2, 3, 4]`                  |\n",
        "| `where()`             | Returns indices where the condition is met                               | `np.where(arr > 2)`                                             | `(array([1, 1]), array([0, 1]))`|\n",
        "| `concatenate()`       | Joins two or more arrays along an axis                                    | `np.concatenate([arr1, arr2], axis=0)`                          | Concatenated array              |\n",
        "| `stack()`             | Stacks arrays along a new dimension                                       | `np.stack([arr1, arr2])`                                        | Stacked array                   |\n",
        "| `split()`             | Splits an array into multiple sub-arrays                                 | `np.split(arr, 2)`                                              | List of sub-arrays              |\n",
        "| `dot()`               | Computes the dot product of two arrays                                    | `arr1.dot(arr2)`                                                | Dot product result              |\n",
        "| `linspace()`          | Creates an array of evenly spaced values between a start and an end      | `np.linspace(0, 10, 5)`                                         | `[0., 2.5, 5., 7.5, 10.]`       |\n",
        "| `arange()`            | Creates an array with evenly spaced values within a given range          | `np.arange(0, 10, 2)`                                           | `[0, 2, 4, 6, 8]`               |\n",
        "| `zeros()`             | Creates an array of zeros with the specified shape                       | `np.zeros((2, 2))`                                              | `[[0., 0.], [0., 0.]]`          |\n",
        "| `ones()`              | Creates an array of ones with the specified shape                        | `np.ones((2, 2))`                                               | `[[1., 1.], [1., 1.]]`          |\n",
        "| `eye()`               | Creates an identity matrix                                                | `np.eye(3)`                                                     | `[[1., 0., 0.], [0., 1., 0.], [0., 0., 1.]]` |\n",
        "| `random.rand()`       | Generates an array of random numbers between 0 and 1                    | `np.random.rand(3)`                                             | `[0.1, 0.2, 0.3]`               |\n",
        "| `random.randint()`    | Generates random integers within a given range                           | `np.random.randint(0, 10, 3)`                                   | `[1, 4, 7]`                     |\n",
        "| `logical_and()`       | Applies element-wise logical AND                                          | `np.logical_and(arr > 0, arr < 3)`                              | `[True, True, False, False]`    |\n",
        "| `logical_or()`        | Applies element-wise logical OR                                           | `np.logical_or(arr == 1, arr == 4)`                             | `[True, False, False, True]`    |\n",
        "\n",
        "## pandas Methods and Attributes\n",
        "\n",
        "| Method/Attribute    | Description                                                                | Example                                                     | Output                                           |\n",
        "|---------------------|----------------------------------------------------------------------------|-------------------------------------------------------------|--------------------------------------------------|\n",
        "| `shape`             | Returns the number of rows and columns in a DataFrame                     | `df = pd.DataFrame([[1, 2], [3, 4]]); df.shape`             | `(2, 2)`                                         |\n",
        "| `ndim`              | Returns the number of dimensions of the DataFrame                         | `df.ndim`                                                  | `2`                                              |\n",
        "| `size`              | Returns the total number of elements in the DataFrame                     | `df.size`                                                  | `4`                                              |\n",
        "| `columns`           | Returns the column labels of the DataFrame                                | `df.columns`                                               | `Index(['A', 'B'], dtype='object')`             |\n",
        "| `index`             | Returns the row labels of the DataFrame                                   | `df.index`                                                 | `RangeIndex(start=0, stop=2, step=1)`           |\n",
        "| `dtypes`            | Returns the data types of each column                                     | `df.dtypes`                                                | `A: int64, B: int64`                            |\n",
        "| `head()`            | Returns the first `n` rows (default is 5)                                 | `df.head()`                                                | First `n` rows                                  |\n",
        "| `tail()`            | Returns the last `n` rows (default is 5)                                  | `df.tail()`                                                | Last `n` rows                                   |\n",
        "| `sum()`             | Computes the sum of each column                                           | `df.sum()`                                                 | Column-wise sum                                 |\n",
        "| `mean()`            | Computes the mean of each column                                          | `df.mean()`                                                | Column-wise mean                                |\n",
        "| `std()`             | Computes the standard deviation of each column                            | `df.std()`                                                 | Column-wise standard deviation                 |\n",
        "| `describe()`        | Generates descriptive statistics                                           | `df.describe()`                                            | Summary of numeric columns                     |\n",
        "| `info()`            | Displays a concise summary of the DataFrame                               | `df.info()`                                                | Memory usage, column types, etc.               |\n",
        "| `isnull()`          | Detects missing values in the DataFrame                                   | `df.isnull()`                                              | DataFrame of booleans                          |\n",
        "| `dropna()`          | Removes rows with missing values                                           | `df.dropna()`                                              | DataFrame without missing rows                 |\n",
        "| `fillna()`          | Fills missing values with specified value                                 | `df.fillna(0)`                                             | DataFrame with NaNs filled                     |\n",
        "| `sort_values()`     | Sorts the DataFrame by column values                                       | `df.sort_values(by='A')`                                   | Sorted DataFrame                                |\n",
        "| `apply()`           | Applies a function along an axis of the DataFrame                         | `df.apply(np.sqrt)`                                        | Result of function application                 |\n",
        "| `groupby()`         | Groups rows by column and applies aggregation                             | `df.groupby('A').sum()`                                    | Grouped and aggregated DataFrame               |\n",
        "| `merge()`           | Merges two DataFrames based on a key column                               | `df1.merge(df2, on='A')`                                   | Merged DataFrame                                |\n",
        "| `pivot_table()`     | Creates a pivot table                                                     | `df.pivot_table(values='B', index='A')`                   | Pivot table DataFrame                           |\n",
        "| `iloc[]`            | Selects rows and columns by integer index                                 | `df.iloc[0, 1]`                                            | Value at position [0, 1]                       |\n",
        "| `loc[]`             | Selects rows and columns by label                                         | `df.loc[0, 'A']`                                           | Value in row 0, column 'A'                     |\n",
        "| `set_index()`       | Sets the DataFrame index using an existing column                         | `df.set_index('A')`                                        | DataFrame with new index                       |\n",
        "| `reset_index()`     | Resets the DataFrame index                                                | `df.reset_index()`                                         | DataFrame with default index                   |\n",
        "| `plot()`            | Generates a plot from the DataFrame                                       | `df.plot()`                                                | Matplotlib plot                                |\n",
        "| `to_csv()`          | Exports the DataFrame to a CSV file                                       | `df.to_csv('file.csv')`                                    | CSV file                                       |\n",
        "\n"
      ],
      "metadata": {
        "id": "AtvJ54g3ez_8"
      }
    }
  ]
}